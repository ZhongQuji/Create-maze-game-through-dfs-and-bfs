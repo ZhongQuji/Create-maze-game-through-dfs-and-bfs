{
 "cells": [
  {
   "cell_type": "markdown",
   "id": "c3e4cbab",
   "metadata": {},
   "source": [
    "## dfs深度优先"
   ]
  },
  {
   "cell_type": "code",
   "execution_count": 2,
   "id": "33d7f94e",
   "metadata": {},
   "outputs": [
    {
     "name": "stdout",
     "output_type": "stream",
     "text": [
      "[1]\n",
      "[1, 2]\n",
      "[1, 2, 4]\n",
      "[1, 2, 4, 5]\n",
      "[1, 2, 4, 5, 3]\n",
      "[1, 2, 4, 5, 3, 6]\n",
      "1 2 4 5 3 6 \n",
      "[4]\n",
      "[4, 2]\n",
      "[4, 2, 5]\n",
      "[4, 2, 5, 1]\n",
      "[4, 2, 5, 1, 3]\n",
      "[4, 2, 5, 1, 3, 6]\n",
      "4 2 5 1 3 6 \n",
      "[4]\n",
      "[4, 5]\n",
      "[4, 5, 2]\n",
      "[4, 5, 2, 6]\n",
      "[4, 5, 2, 6, 3]\n",
      "[4, 5, 2, 6, 3, 1]\n",
      "4 5 2 6 3 1 "
     ]
    }
   ],
   "source": [
    "class TreeNode(object):\n",
    "    def __init__(self,var,left=None,right=None):\n",
    "        self.var = var\n",
    "        self.left = left\n",
    "        self.right = right\n",
    "\n",
    "class BinaryTree(object):\n",
    "    def __init__(self,root=None):\n",
    "        self.root = root\n",
    "\n",
    "    def preOrder(self,retList,node='root'):  #先序遍历\n",
    "        if node == 'root':\n",
    "            node = self.root\n",
    "        if node != None:\n",
    "            retList.append(node)\n",
    "            print ([i.var for i in retList])\n",
    "            self.preOrder(retList,node.left)\n",
    "            self.preOrder(retList,node.right)\n",
    "        return retList\n",
    "\n",
    "    def inOrder(self,retList,node='root'):  #中序遍历\n",
    "        if node == 'root':\n",
    "            node = self.root\n",
    "        if node != None:\n",
    "            self.inOrder(retList,node.left)\n",
    "            retList.append(node)\n",
    "            print ([i.var for i in retList])\n",
    "            self.inOrder(retList,node.right)\n",
    "        return retList\n",
    "\n",
    "    def postOrder(self,retList,node='root'): #后序遍历\n",
    "        if node == 'root':\n",
    "            node = self.root\n",
    "        if node != None:\n",
    "            self.postOrder(retList,node.left)\n",
    "            self.postOrder(retList,node.right)\n",
    "            retList.append(node)\n",
    "            print ([i.var for i in retList])\n",
    "        return retList\n",
    "\n",
    "\n",
    "if __name__ == '__main__':\n",
    "    rootNode = TreeNode(1)                  #节点（node）设置\n",
    "    rootNode.left = TreeNode(2,left=TreeNode(4),right=TreeNode(5))\n",
    "    rootNode.right = TreeNode(3,right=TreeNode(6))\n",
    "    binaryTree = BinaryTree(rootNode)\n",
    "    ret = binaryTree.preOrder([],binaryTree.root)\n",
    "    for i in ret:                           #打印出依次的遍历过程\n",
    "        print (i.var,end=\" \")\n",
    "    print(\"\")\n",
    "\n",
    "    ret = binaryTree.inOrder([],binaryTree.root)\n",
    "    for i in ret:\n",
    "        print (i.var,end=\" \")\n",
    "    print(\"\")\n",
    "\n",
    "    ret = binaryTree.postOrder([],binaryTree.root)\n",
    "    for i in ret:\n",
    "        print (i.var,end=\" \")\n"
   ]
  },
  {
   "cell_type": "markdown",
   "id": "9f528f6c",
   "metadata": {},
   "source": [
    "## bfs广度优先"
   ]
  },
  {
   "cell_type": "code",
   "execution_count": 3,
   "id": "941316bd",
   "metadata": {},
   "outputs": [
    {
     "name": "stdout",
     "output_type": "stream",
     "text": [
      "[1, 2, 3, 4, 5, 6]\n"
     ]
    }
   ],
   "source": [
    "from queue import Queue\n",
    "\n",
    "class TreeNode(object):\n",
    "    def __init__(self,var,left=None,right=None):\n",
    "        self.var = var\n",
    "        self.left = left\n",
    "        self.right = right\n",
    "\n",
    "class BinaryTree(object):\n",
    "    def __init__(self,root = None):\n",
    "        self.root = root\n",
    "\n",
    "    def breathSearth(self):\n",
    "        if self.root == None:\n",
    "            return None\n",
    "        retList = []\n",
    "        queue = Queue()\n",
    "        queue.put(self.root)\n",
    "        while queue.empty() is not True:\n",
    "            node = queue.get()\n",
    "            retList.append(node.var)\n",
    "            if node.left != None:\n",
    "                queue.put(node.left)\n",
    "            if node.right != None:\n",
    "                queue.put(node.right)\n",
    "        return retList\n",
    "\n",
    "if __name__ == '__main__':\n",
    "    rootNode = TreeNode(1)                                        #节点（node）设置\n",
    "    rootNode.left = TreeNode(2,left=TreeNode(4),right=TreeNode(5))\n",
    "    rootNode.right = TreeNode(3,right=TreeNode(6))\n",
    "\n",
    "    tree = BinaryTree(rootNode)\n",
    "    retList = tree.breathSearth()\n",
    "    print (retList)\n"
   ]
  },
  {
   "cell_type": "markdown",
   "id": "cef6016f",
   "metadata": {},
   "source": [
    "##### 参考如下：Prim生成迷宫 dfs和bfs走迷宫 _ https://blog.csdn.net/qq_30007885/article/details/104447714?ops_request_misc=%257B%2522request%255Fid%2522%253A%2522166000843916781667860566%2522%252C%2522scm%2522%253A%252220140713.130102334.pc%255Fall.%2522%257D&request_id=166000843916781667860566&biz_id=0&utm_medium=distribute.pc_search_result.none-task-blog-2~all~first_rank_ecpm_v1~pc_rank_v38-1-104447714-null-null.142^v39^pc_rank_v38,185^v2^control&utm_term=def%20show_maze%28Maze%29%3A%20%20%20%20%20plt.imshow%28Maze%2C%20cmap%3Dcm.Wistia_r%2C%20interpolation%3Dnone%29%20%20%20%20%20%23%20plt.ion%28%29%20%20%20%20%20plt.show%28%29%20%20%20%20%20def%20find_path_bfs%28image%2C%20M%29%3A%20%20%20%20%20path%20%3D%20np.zeros%28%28num_rows%2C%20num_cols%2C%202%29%29%20%20%20%20%20vis%20%3D&spm=1018.2226.3001.4187"
   ]
  },
  {
   "cell_type": "code",
   "execution_count": 8,
   "id": "72dffafe",
   "metadata": {
    "scrolled": true
   },
   "outputs": [
    {
     "name": "stdout",
     "output_type": "stream",
     "text": [
      "请输入迷宫需要设置的行数: 9\n",
      "请输入迷宫需要设置的列数: 7\n"
     ]
    },
    {
     "data": {
      "image/png": "[encoded data removed]",
      "text/plain": [
       "<Figure size 432x288 with 1 Axes>"
      ]
     },
     "metadata": {
      "needs_background": "light"
     },
     "output_type": "display_data"
    },
    {
     "data": {
      "image/png": "[encoded data removed]",
      "text/plain": [
       "<Figure size 432x288 with 1 Axes>"
      ]
     },
     "metadata": {
      "needs_background": "light"
     },
     "output_type": "display_data"
    },
    {
     "data": {
      "image/png": "[encoded data removed]",
      "text/plain": [
       "<Figure size 432x288 with 1 Axes>"
      ]
     },
     "metadata": {
      "needs_background": "light"
     },
     "output_type": "display_data"
    },
    {
     "data": {
      "image/png": "[encoded data removed]",
      "text/plain": [
       "<Figure size 432x288 with 1 Axes>"
      ]
     },
     "metadata": {
      "needs_background": "light"
     },
     "output_type": "display_data"
    },
    {
     "data": {
      "image/png": "[encoded data removed]",
      "text/plain": [
       "<Figure size 432x288 with 1 Axes>"
      ]
     },
     "metadata": {
      "needs_background": "light"
     },
     "output_type": "display_data"
    },
    {
     "data": {
      "image/png": "[encoded data removed]",
      "text/plain": [
       "<Figure size 432x288 with 1 Axes>"
      ]
     },
     "metadata": {
      "needs_background": "light"
     },
     "output_type": "display_data"
    },
    {
     "data": {
      "image/png": "[encoded data removed]",
      "text/plain": [
       "<Figure size 432x288 with 1 Axes>"
      ]
     },
     "metadata": {
      "needs_background": "light"
     },
     "output_type": "display_data"
    },
    {
     "data": {
      "image/png": "[encoded data removed]",
      "text/plain": [
       "<Figure size 432x288 with 1 Axes>"
      ]
     },
     "metadata": {
      "needs_background": "light"
     },
     "output_type": "display_data"
    },
    {
     "data": {
      "image/png": "[encoded data removed]",
      "text/plain": [
       "<Figure size 432x288 with 1 Axes>"
      ]
     },
     "metadata": {
      "needs_background": "light"
     },
     "output_type": "display_data"
    },
    {
     "data": {
      "image/png": "[encoded data removed]",
      "text/plain": [
       "<Figure size 432x288 with 1 Axes>"
      ]
     },
     "metadata": {
      "needs_background": "light"
     },
     "output_type": "display_data"
    },
    {
     "data": {
      "image/png": "[encoded data removed]",
      "text/plain": [
       "<Figure size 432x288 with 1 Axes>"
      ]
     },
     "metadata": {
      "needs_background": "light"
     },
     "output_type": "display_data"
    },
    {
     "data": {
      "image/png": "[encoded data removed]",
      "text/plain": [
       "<Figure size 432x288 with 1 Axes>"
      ]
     },
     "metadata": {
      "needs_background": "light"
     },
     "output_type": "display_data"
    },
    {
     "data": {
      "image/png": "[encoded data removed]",
      "text/plain": [
       "<Figure size 432x288 with 1 Axes>"
      ]
     },
     "metadata": {
      "needs_background": "light"
     },
     "output_type": "display_data"
    },
    {
     "data": {
      "image/png": "[encoded data removed]",
      "text/plain": [
       "<Figure size 432x288 with 1 Axes>"
      ]
     },
     "metadata": {
      "needs_background": "light"
     },
     "output_type": "display_data"
    },
    {
     "data": {
      "image/png": "[encoded data removed]",
      "text/plain": [
       "<Figure size 432x288 with 1 Axes>"
      ]
     },
     "metadata": {
      "needs_background": "light"
     },
     "output_type": "display_data"
    },
    {
     "data": {
      "image/png": "[encoded data removed]",
      "text/plain": [
       "<Figure size 432x288 with 1 Axes>"
      ]
     },
     "metadata": {
      "needs_background": "light"
     },
     "output_type": "display_data"
    },
    {
     "data": {
      "image/png": "[encoded data removed]",
      "text/plain": [
       "<Figure size 432x288 with 1 Axes>"
      ]
     },
     "metadata": {
      "needs_background": "light"
     },
     "output_type": "display_data"
    },
    {
     "data": {
      "image/png": "[encoded data removed]",
      "text/plain": [
       "<Figure size 432x288 with 1 Axes>"
      ]
     },
     "metadata": {
      "needs_background": "light"
     },
     "output_type": "display_data"
    },
    {
     "data": {
      "image/png": "[encoded data removed]",
      "text/plain": [
       "<Figure size 432x288 with 1 Axes>"
      ]
     },
     "metadata": {
      "needs_background": "light"
     },
     "output_type": "display_data"
    },
    {
     "data": {
      "image/png": "[encoded data removed]",
      "text/plain": [
       "<Figure size 432x288 with 1 Axes>"
      ]
     },
     "metadata": {
      "needs_background": "light"
     },
     "output_type": "display_data"
    }
   ],
   "source": [
    "import random\n",
    "import numpy as np\n",
    "from matplotlib import pyplot as plt\n",
    "import matplotlib.cm as cm\n",
    "from collections import deque\n",
    "\n",
    "#显示地图（图形化显示） \n",
    "def show_maze(Maze):\n",
    "    plt.imshow(Maze, cmap=cm.Wistia_r, interpolation='none')\n",
    "    plt.show()\n",
    "\n",
    "#用bfs查找路径    \n",
    "def find_path_bfs(image, M):                          \n",
    "    path = np.zeros((num_rows, num_cols, 2))\n",
    "    vis = np.zeros((num_rows, num_cols))\n",
    "    vis[0][0] = 1\n",
    "    Queue = deque()\n",
    "    Queue.append((0, 0))\n",
    "    while(Queue):\n",
    "        temp = Queue.popleft()\n",
    "        nr = temp[0]\n",
    "        nc = temp[1]\n",
    " \n",
    "        if (nc == num_cols - 1) and (nr == num_rows - 1):\n",
    "            show_path(image, path)\n",
    "            break\n",
    "        if (nc > 0) and (not vis[nr][nc - 1]) and (M[nr][nc][0]):\n",
    "            vis[nr][nc] = 1\n",
    "            Queue.append((nr, nc - 1))\n",
    "            path[nr][nc - 1][0] = nr\n",
    "            path[nr][nc - 1][1] = nc\n",
    "        if (nr > 0) and (not vis[nr - 1][nc]) and (M[nr][nc][1]):\n",
    "            vis[nr][nc] = 1\n",
    "            Queue.append((nr - 1, nc))\n",
    "            path[nr - 1][nc][0] = nr\n",
    "            path[nr - 1][nc][1] = nc\n",
    "        if (nc < num_cols - 1) and (not vis[nr][nc + 1]) and (M[nr][nc][2]):\n",
    "            vis[nr][nc] = 1\n",
    "            Queue.append((nr, nc + 1))\n",
    "            path[nr][nc + 1][0] = nr\n",
    "            path[nr][nc + 1][1] = nc\n",
    "        if (nr < num_rows - 1) and (not vis[nr + 1][nc]) and (M[nr][nc][3]):\n",
    "            vis[nr][nc] = 1\n",
    "            Queue.append((nr + 1, nc))\n",
    "            path[nr + 1][nc][0] = nr\n",
    "            path[nr + 1][nc][1] = nc\n",
    "\n",
    "#用dfs查找路径  \n",
    "def find_path_dfs(image, M):                    \n",
    "    path = np.zeros((num_rows, num_cols, 2))\n",
    "    vis = np.zeros((num_rows, num_cols))\n",
    "    vis[0][0] = 1\n",
    "    def dfs(pos):\n",
    "        nr = pos[0];\n",
    "        nc = pos[1];\n",
    "        if (nc == num_cols - 1) and (nr == num_rows - 1):\n",
    "            show_path(image, path)\n",
    "            return\n",
    "        if (nc > 0) and (not vis[nr][nc - 1]) and (M[nr][nc][0]):\n",
    "            vis[nr][nc] = 1\n",
    "            path[nr][nc - 1][0] = nr\n",
    "            path[nr][nc - 1][1] = nc\n",
    "            dfs((nr, nc - 1))\n",
    "            vis[nr][nc] = 0\n",
    "        if (nr > 0) and (not vis[nr - 1][nc]) and (M[nr][nc][1]):\n",
    "            vis[nr][nc] = 1\n",
    "            path[nr - 1][nc][0] = nr\n",
    "            path[nr - 1][nc][1] = nc\n",
    "            dfs((nr - 1, nc))\n",
    "            vis[nr][nc] = 0\n",
    "        if (nc < num_cols - 1) and (not vis[nr][nc + 1]) and (M[nr][nc][2]):\n",
    "            vis[nr][nc] = 1\n",
    "            path[nr][nc + 1][0] = nr\n",
    "            path[nr][nc + 1][1] = nc\n",
    "            dfs((nr, nc + 1))\n",
    "            vis[nr][nc] = 0\n",
    "        if (nr < num_rows - 1) and (not vis[nr + 1][nc]) and (M[nr][nc][3]):\n",
    "            path[nr + 1][nc][0] = nr\n",
    "            path[nr + 1][nc][1] = nc\n",
    "            vis[nr][nc] = 1\n",
    "            dfs((nr + 1, nc))\n",
    "            vis[nr][nc] = 0\n",
    " \n",
    "    dfs((0,0))\n",
    "\n",
    "#dfs方法生成地图    \n",
    "def Create_maze_dfs():\n",
    "    M = np.zeros((num_rows, num_cols, 5))\n",
    "    image = np.zeros((num_rows * 10, num_cols * 10))\n",
    " \n",
    "    r = 0\n",
    "    c = 0\n",
    "    history = [(r, c)]\n",
    " \n",
    "    while history:\n",
    "        M[r, c, 4] = 1\n",
    "        check = []\n",
    "        if c > 0 and M[r, c - 1, 4] == 0:\n",
    "            check.append('L')\n",
    "        if r > 0 and M[r - 1, c, 4] == 0:\n",
    "            check.append('U')\n",
    "        if c < num_cols - 1 and M[r, c + 1, 4] == 0:\n",
    "            check.append('R')\n",
    "        if r < num_rows - 1 and M[r + 1, c, 4] == 0:\n",
    "            check.append('D')\n",
    " \n",
    "        if len(check):\n",
    "            history.append([r, c])\n",
    "            move_direction = random.choice(check)\n",
    "            if move_direction == 'L':\n",
    "                M[r, c, 0] = 1\n",
    "                c = c - 1\n",
    "                M[r, c, 2] = 1\n",
    "            if move_direction == 'U':\n",
    "                M[r, c, 1] = 1\n",
    "                r = r - 1\n",
    "                M[r, c, 3] = 1\n",
    "            if move_direction == 'R':\n",
    "                M[r, c, 2] = 1\n",
    "                c = c + 1\n",
    "                M[r, c, 0] = 1\n",
    "            if move_direction == 'D':\n",
    "                M[r, c, 3] = 1\n",
    "                r = r + 1\n",
    "                M[r, c, 1] = 1\n",
    "        else:\n",
    "            r, c = history.pop()\n",
    " \n",
    "    M[0, 0, 0] = 1\n",
    "    M[num_rows - 1, num_cols - 1, 2] = 1\n",
    " \n",
    "    for row in range(0, num_rows):\n",
    "        for col in range(0, num_cols):\n",
    "            cell_data = M[row, col]\n",
    "            for i in range(10 * row + 2, 10 * row + 8):\n",
    "                image[i, range(10 * col + 2, 10 * col + 8)] = 255\n",
    "            if cell_data[0] == 1:\n",
    "                image[range(10 * row + 2, 10 * row + 8), 10 * col] = 255\n",
    "                image[range(10 * row + 2, 10 * row + 8), 10 * col + 1] = 255\n",
    "            if cell_data[1] == 1:\n",
    "                image[10 * row, range(10 * col + 2, 10 * col + 8)] = 255\n",
    "                image[10 * row + 1, range(10 * col + 2, 10 * col + 8)] = 255\n",
    "            if cell_data[2] == 1:\n",
    "                image[range(10 * row + 2, 10 * row + 8), 10 * col + 9] = 255\n",
    "                image[range(10 * row + 2, 10 * row + 8), 10 * col + 8] = 255\n",
    "            if cell_data[3] == 1:\n",
    "                image[10 * row + 9, range(10 * col + 2, 10 * col + 8)] = 255\n",
    "                image[10 * row + 8, range(10 * col + 2, 10 * col + 8)] = 255\n",
    "    return M, image\n",
    " \n",
    "#prim算法生成地图\n",
    "def Create_maze_prim():                        \n",
    "    M = np.zeros((num_rows, num_cols, 5))\n",
    "    image = np.zeros((num_rows * 10, num_cols * 10))\n",
    " \n",
    "    r = 0\n",
    "    c = 0\n",
    "    history = [(r, c)]\n",
    " \n",
    "    while history:\n",
    "        r, c = random.choice(history)\n",
    "        M[r, c, 4] = 1\n",
    "        history.remove((r, c))\n",
    "        check = []\n",
    " \n",
    "        if c > 0:\n",
    "            if M[r, c - 1, 4] == 1:\n",
    "                check.append('L')\n",
    "            elif M[r, c - 1, 4] == 0:\n",
    "                history.append((r, c - 1))\n",
    "                M[r, c - 1, 4] = 2\n",
    "        if r > 0:\n",
    "            if M[r - 1, c, 4] == 1:\n",
    "                check.append('U')\n",
    "            elif M[r - 1, c, 4] == 0:\n",
    "                history.append((r - 1, c))\n",
    "                M[r - 1, c, 4] = 2\n",
    "        if c < num_cols - 1:\n",
    "            if M[r, c + 1, 4] == 1:\n",
    "                check.append('R')\n",
    "            elif M[r, c + 1, 4] == 0:\n",
    "                history.append((r, c + 1))\n",
    "                M[r, c + 1, 4] = 2\n",
    "        if r < num_rows - 1:\n",
    "            if M[r + 1, c, 4] == 1:\n",
    "                check.append('D')\n",
    "            elif M[r + 1, c, 4] == 0:\n",
    "                history.append((r + 1, c))\n",
    "                M[r + 1, c, 4] = 2\n",
    " \n",
    "        if len(check):\n",
    "            move_direction = random.choice(check)\n",
    "            if move_direction == 'L':\n",
    "                M[r, c, 0] = 1\n",
    "                c = c - 1\n",
    "                M[r, c, 2] = 1\n",
    "            if move_direction == 'U':\n",
    "                M[r, c, 1] = 1\n",
    "                r = r - 1\n",
    "                M[r, c, 3] = 1\n",
    "            if move_direction == 'R':\n",
    "                M[r, c, 2] = 1\n",
    "                c = c + 1\n",
    "                M[r, c, 0] = 1\n",
    "            if move_direction == 'D':\n",
    "                M[r, c, 3] = 1\n",
    "                r = r + 1\n",
    "                M[r, c, 1] = 1\n",
    " \n",
    "    M[0, 0, 0] = 1\n",
    "    M[num_rows - 1, num_cols - 1, 2] = 1\n",
    " \n",
    "    for row in range(0, num_rows):\n",
    "        for col in range(0, num_cols):\n",
    "            cell_data = M[row, col]\n",
    "            for i in range(10 * row + 2, 10 * row + 8):\n",
    "                image[i, range(10 * col + 2, 10 * col + 8)] = 255\n",
    "            if cell_data[0] == 1:\n",
    "                image[range(10 * row + 2, 10 * row + 8), 10 * col] = 255\n",
    "                image[range(10 * row + 2, 10 * row + 8), 10 * col + 1] = 255\n",
    "            if cell_data[1] == 1:\n",
    "                image[10 * row, range(10 * col + 2, 10 * col + 8)] = 255\n",
    "                image[10 * row + 1, range(10 * col + 2, 10 * col + 8)] = 255\n",
    "            if cell_data[2] == 1:\n",
    "                image[range(10 * row + 2, 10 * row + 8), 10 * col + 9] = 255\n",
    "                image[range(10 * row + 2, 10 * row + 8), 10 * col + 8] = 255\n",
    "            if cell_data[3] == 1:\n",
    "                image[10 * row + 9, range(10 * col + 2, 10 * col + 8)] = 255\n",
    "                image[10 * row + 8, range(10 * col + 2, 10 * col + 8)] = 255\n",
    "    return M, image\n",
    "\n",
    "#显示路径（图形化） \n",
    "def show_path(image, path):\n",
    "    plt.imshow(image, cmap=cm.Wistia_r, interpolation='none')\n",
    "    plt.ion()\n",
    "    plt.pause(2)\n",
    "    str = \"\"\n",
    "    stack = []\n",
    "    nr = num_rows - 1\n",
    "    nc = num_cols - 1\n",
    "    stack.append((nr, nc + 1))\n",
    "    stack.append((nr, nc))\n",
    "    while nr or nc:\n",
    "        tr = nr\n",
    "        tc = nc\n",
    "        nr = (int)(path[tr][tc][0])\n",
    "        nc = (int)(path[tr][tc][1])\n",
    "        stack.append((nr, nc))\n",
    "    # stack.append((num_rows, num_cols))\n",
    "    pr = 0\n",
    "    pc = 0\n",
    "    dir = 2\n",
    "    color_num = 150\n",
    "    while(stack):\n",
    "        temp = stack.pop()\n",
    "        nr = temp[0]\n",
    "        nc = temp[1]\n",
    "        if nr or nc:\n",
    "            if (nr == pr):\n",
    "                if (nc > pc):\n",
    "                    # print(\"R\")\n",
    "                    if (dir == 2):\n",
    "                        image[10 * pr + 4,\n",
    "                              range(10 * pc + 0, 10 * pc + 10)] = color_num\n",
    "                        image[10 * pr + 5,\n",
    "                              range(10 * pc + 0, 10 * pc + 10)] = color_num\n",
    "                    elif (dir == 1):\n",
    "                        image[10 * pr + 4,\n",
    "                              range(10 * pc + 4, 10 * pc + 10)] = color_num\n",
    "                        image[10 * pr + 5,\n",
    "                              range(10 * pc + 4, 10 * pc + 10)] = color_num\n",
    "                        image[range(10 * pr + 4, 10 * pr + 10),\n",
    "                              10 * pc + 4] = color_num\n",
    "                        image[range(10 * pr + 4, 10 * pr + 10),\n",
    "                              10 * pc + 5] = color_num\n",
    "                    elif (dir == 3):\n",
    "                        image[10 * pr + 4,\n",
    "                              range(10 * pc + 4, 10 * pc + 10)] = color_num\n",
    "                        image[10 * pr + 5,\n",
    "                              range(10 * pc + 4, 10 * pc + 10)] = color_num\n",
    "                        image[range(10 * pr + 0, 10 * pr + 6),\n",
    "                              10 * pc + 4] = color_num\n",
    "                        image[range(10 * pr + 0, 10 * pr + 6),\n",
    "                              10 * pc + 5] = color_num\n",
    "                    dir = 2\n",
    "                else:\n",
    "                    # print(\"L\")\n",
    "                    if (dir == 0):\n",
    "                        image[10 * pr + 4,\n",
    "                              range(10 * pc + 0, 10 * pc + 10)] = color_num\n",
    "                        image[10 * pr + 5,\n",
    "                              range(10 * pc + 0, 10 * pc + 10)] = color_num\n",
    "                    elif (dir == 1):\n",
    "                        image[10 * pr + 4,\n",
    "                              range(10 * pc + 0, 10 * pc + 6)] = color_num\n",
    "                        image[10 * pr + 5,\n",
    "                              range(10 * pc + 0, 10 * pc + 6)] = color_num\n",
    "                        image[range(10 * pr + 4, 10 * pr + 10),\n",
    "                              10 * pc + 4] = color_num\n",
    "                        image[range(10 * pr + 4, 10 * pr + 10),\n",
    "                              10 * pc + 5] = color_num\n",
    "                    elif (dir == 3):\n",
    "                        image[10 * pr + 4,\n",
    "                              range(10 * pc + 0, 10 * pc + 6)] = color_num\n",
    "                        image[10 * pr + 5,\n",
    "                              range(10 * pc + 0, 10 * pc + 6)] = color_num\n",
    "                        image[range(10 * pr + 0, 10 * pr + 6),\n",
    "                              10 * pc + 4] = color_num\n",
    "                        image[range(10 * pr + 0, 10 * pr + 6),\n",
    "                              10 * pc + 5] = color_num\n",
    "                    dir = 0\n",
    "            elif (nc == pc):\n",
    "                if (nr > pr):\n",
    "                    # print(\"D\")\n",
    "                    if (dir == 3):\n",
    "                        image[range(10 * pr + 0, 10 * pr + 10),\n",
    "                              10 * pc + 4] = color_num\n",
    "                        image[range(10 * pr + 0, 10 * pr + 10),\n",
    "                              10 * pc + 5] = color_num\n",
    "                    elif (dir == 0):\n",
    "                        image[10 * pr + 4,\n",
    "                              range(10 * pc + 4, 10 * pc + 10)] = color_num\n",
    "                        image[10 * pr + 5,\n",
    "                              range(10 * pc + 4, 10 * pc + 10)] = color_num\n",
    "                        image[range(10 * pr + 4, 10 * pr + 10),\n",
    "                              10 * pc + 4] = color_num\n",
    "                        image[range(10 * pr + 4, 10 * pr + 10),\n",
    "                              10 * pc + 5] = color_num\n",
    "                    elif (dir == 2):\n",
    "                        image[10 * pr + 4,\n",
    "                              range(10 * pc + 0, 10 * pc + 6)] = color_num\n",
    "                        image[10 * pr + 5,\n",
    "                              range(10 * pc + 0, 10 * pc + 6)] = color_num\n",
    "                        image[range(10 * pr + 4, 10 * pr + 10),\n",
    "                              10 * pc + 4] = color_num\n",
    "                        image[range(10 * pr + 4, 10 * pr + 10),\n",
    "                              10 * pc + 5] = color_num\n",
    "                    dir = 3\n",
    "                else:\n",
    "                    # print(\"U\")\n",
    "                    if (dir == 1):\n",
    "                        image[range(10 * pr + 0, 10 * pr + 10),\n",
    "                              10 * pc + 4] = color_num\n",
    "                        image[range(10 * pr + 0, 10 * pr + 10),\n",
    "                              10 * pc + 5] = color_num\n",
    "                    elif (dir == 0):\n",
    "                        image[10 * pr + 4,\n",
    "                              range(10 * pc + 4, 10 * pc + 10)] = color_num\n",
    "                        image[10 * pr + 5,\n",
    "                              range(10 * pc + 4, 10 * pc + 10)] = color_num\n",
    "                        image[range(10 * pr + 0, 10 * pr + 6),\n",
    "                              10 * pc + 4] = color_num\n",
    "                        image[range(10 * pr + 0, 10 * pr + 6),\n",
    "                              10 * pc + 5] = color_num\n",
    "                    elif (dir == 2):\n",
    "                        image[10 * pr + 4,\n",
    "                              range(10 * pc + 0, 10 * pc + 6)] = color_num\n",
    "                        image[10 * pr + 5,\n",
    "                              range(10 * pc + 0, 10 * pc + 6)] = color_num\n",
    "                        image[range(10 * pr + 0, 10 * pr + 6),\n",
    "                              10 * pc + 4] = color_num\n",
    "                        image[range(10 * pr + 0, 10 * pr + 6),\n",
    "                              10 * pc + 5] = color_num\n",
    "                    dir = 1\n",
    "            pr = nr\n",
    "            pc = nc\n",
    "            plt.clf()\n",
    "            plt.imshow(image, cmap=cm.Wistia_r, interpolation='none')\n",
    "            # plt.ion()\n",
    "            if (stack):\n",
    "                plt.ion()\n",
    "                plt.pause(0.03 / (num_cols * num_rows / 100))\n",
    "            else:\n",
    "                plt.ioff()\n",
    "                plt.show()\n",
    "                # plt.pause(1000)\n",
    " \n",
    " \n",
    "if __name__ == '__main__':\n",
    "    num_rows = int(input(\"请输入迷宫需要设置的行数: \"))\n",
    "    num_cols = int(input(\"请输入迷宫需要设置的列数: \"))\n",
    " \n",
    "    path = np.zeros((num_rows, num_cols, 2))\n",
    "    M = np.zeros((num_rows, num_cols, 5))\n",
    "    image = np.zeros((num_rows * 10, num_cols * 10))\n",
    "    # row_image = np.zeros((num_rows * 10, num_cols * 10))\n",
    " \n",
    "    # M, image = Create_maze_prim()\n",
    "    M, image = Create_maze_dfs()\n",
    " \n",
    "    # show_maze(image)\n",
    "    # find_path_bfs(image, M)\n",
    "    find_path_dfs(image, M)\n",
    " \n",
    "    # show_path(image, path)"
   ]
  },
  {
   "cell_type": "code",
   "execution_count": null,
   "id": "3dfff287",
   "metadata": {},
   "outputs": [],
   "source": []
  }
 ],
 "metadata": {
  "kernelspec": {
   "display_name": "Python 3 (ipykernel)",
   "language": "python",
   "name": "python3"
  },
  "language_info": {
   "codemirror_mode": {
    "name": "ipython",
    "version": 3
   },
   "file_extension": ".py",
   "mimetype": "text/x-python",
   "name": "python",
   "nbconvert_exporter": "python",
   "pygments_lexer": "ipython3",
   "version": "3.9.7"
  }
 },
 "nbformat": 4,
 "nbformat_minor": 5
}
